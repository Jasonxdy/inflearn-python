{
 "cells": [
  {
   "attachments": {},
   "cell_type": "markdown",
   "id": "46e3d990",
   "metadata": {},
   "source": [
    "---\n",
    "# 파이썬 입문 : 도전! 45가지 기초 문법 실습하기 🙋🏻‍♂️\n",
    "---"
   ]
  },
  {
   "attachments": {},
   "cell_type": "markdown",
   "id": "28f413a5",
   "metadata": {},
   "source": [
    "### 꼭 기억하세요 😊\n",
    "+ **시간이 다소 소요되더라도** 스스로 생각해서 프로그래밍을 해야**`실력이 향상 됩니다.`** \n",
    "+ 다양한 문제를 통해서 **`문제 해결`**능력을 향상 시켜봐요.\n",
    "+ 여러 방식으로 **`같은 결과 값`**이 나오도록 프로그래밍 해보세요.\n",
    "+ **문제 해결**에 너무 시간이 오래 걸리면 **`검색(구글링 등)`**을 통해서 해결해보세요.\n",
    "+ **`온라인 Python IDE :`** https://www.programiz.com/python-programming/online-compiler/"
   ]
  },
  {
   "attachments": {},
   "cell_type": "markdown",
   "id": "c3a88b92",
   "metadata": {},
   "source": [
    "***\n",
    "## 11. Dict Items Sum💻\n",
    "***\n",
    "#### **`연습예제`** 💻"
   ]
  },
  {
   "attachments": {},
   "cell_type": "markdown",
   "id": "49b428ae",
   "metadata": {},
   "source": [
    "`아래와 같은 Dict 구조에서` **`모든 value`** `값의` **`합(Sum)`** `을 구하세요.` **`*가능한 모든 방법*`** `으로 코딩하세요.` \n",
    "\n",
    "\n",
    "\n",
    "```python\n",
    "d = {'a': 17,'b': 114,'c': 247, 'd': 362, 'e': 220, 'f': 728, 'g': -283, 'h': 922}\n",
    "\n",
    "출력결과 : 2327\n",
    "```"
   ]
  },
  {
   "attachments": {},
   "cell_type": "markdown",
   "id": "44d53430",
   "metadata": {},
   "source": [
    "#### **`코딩영역`**"
   ]
  },
  {
   "cell_type": "code",
   "execution_count": 37,
   "id": "ca1e5a1b",
   "metadata": {},
   "outputs": [
    {
     "name": "stdout",
     "output_type": "stream",
     "text": [
      "2327\n",
      "value : 2327\n"
     ]
    },
    {
     "ename": "TypeError",
     "evalue": "<lambda>() missing 1 required positional argument: 'y'",
     "output_type": "error",
     "traceback": [
      "\u001b[0;31m---------------------------------------------------------------------------\u001b[0m",
      "\u001b[0;31mTypeError\u001b[0m                                 Traceback (most recent call last)",
      "Cell \u001b[0;32mIn[37], line 15\u001b[0m\n\u001b[1;32m     12\u001b[0m \u001b[39mprint\u001b[39m(\u001b[39mf\u001b[39m\u001b[39m'\u001b[39m\u001b[39mvalue : \u001b[39m\u001b[39m{\u001b[39;00mtotal\u001b[39m}\u001b[39;00m\u001b[39m'\u001b[39m)\n\u001b[1;32m     14\u001b[0m \u001b[39m# 방법 3\u001b[39;00m\n\u001b[0;32m---> 15\u001b[0m \u001b[39mprint\u001b[39m(\u001b[39mlist\u001b[39;49m(\u001b[39mmap\u001b[39;49m(\u001b[39mlambda\u001b[39;49;00m x,y:x\u001b[39m+\u001b[39;49my, d\u001b[39m.\u001b[39;49mvalues())))\n",
      "\u001b[0;31mTypeError\u001b[0m: <lambda>() missing 1 required positional argument: 'y'"
     ]
    }
   ],
   "source": [
    "# 코딩 영역\n",
    "import this\n",
    "d = {'a': 17,'b': 114,'c': 247, 'd': 362, 'e': 220, 'f': 728, 'g': -283, 'h': 922}\n",
    "# 방법 1\n",
    "print(sum([int(x) for x in d.values()]))\n",
    "\n",
    "# 방법 2\n",
    "total = 0\n",
    "for i in d.keys():\n",
    "    total += d.get(i)\n",
    "\n",
    "print(f'value : {total}')\n",
    "\n",
    "# 방법 3"
   ]
  },
  {
   "attachments": {},
   "cell_type": "markdown",
   "id": "e48cce26",
   "metadata": {},
   "source": [
    "#### **`Hint`**"
   ]
  },
  {
   "attachments": {},
   "cell_type": "markdown",
   "id": "fc2ea9eb",
   "metadata": {},
   "source": [
    "<details>\n",
    "    <summary>▶<b>여기</b>를 눌러주세요</summary>\n",
    "<div markdown=\"1\">       \n",
    "\n",
    "```python\n",
    "    \n",
    "# Dict : Key와 value의 대응관계를 갖는 자료형(해시테이블, 가변적-수정가능)\n",
    "\n",
    "# 자주 사용하는 함수 : get(), values(), keys() \n",
    "\n",
    "# 다양한 Dict 선언 방법에 대해서 알아둬야 해요!\n",
    "# 빈 딕셔너리\n",
    "d = {}\n",
    "\n",
    "# 자주 사용\n",
    "d = {1: 'banana', 2: 'apple'}\n",
    "\n",
    "# 다양한 키 조합\n",
    "d = {'name': 'Lee', 1: [5, 6, 7]}\n",
    "\n",
    "# 직접 선언\n",
    "d = dict({1:'banana', 2:'apple'})\n",
    "\n",
    "# 시퀀스형 페어로 선언\n",
    "d = dict([(1,'banana'), (2,'apple')])\n",
    "```\n",
    "</div>\n",
    "</details>"
   ]
  },
  {
   "attachments": {},
   "cell_type": "markdown",
   "id": "866ce5b7",
   "metadata": {},
   "source": [
    "***"
   ]
  },
  {
   "attachments": {},
   "cell_type": "markdown",
   "id": "45217c6a",
   "metadata": {},
   "source": [
    "![bottom_arrow](../../img/bottom_arrow.jpg)\n",
    "![bottom_arrow](../../img/bottom_arrow.jpg)\n",
    "![bottom_arrow](../../img/bottom_arrow.jpg)"
   ]
  },
  {
   "attachments": {},
   "cell_type": "markdown",
   "id": "fc473095",
   "metadata": {},
   "source": [
    "***"
   ]
  },
  {
   "attachments": {},
   "cell_type": "markdown",
   "id": "d316af80",
   "metadata": {},
   "source": [
    "#### **`결과 & 보충설명`**"
   ]
  },
  {
   "cell_type": "code",
   "execution_count": 18,
   "id": "7fcea4bb",
   "metadata": {},
   "outputs": [
    {
     "name": "stdout",
     "output_type": "stream",
     "text": [
      "ex1 결과 : 2327\n",
      "ex2 결과 : 2327\n",
      "ex3 결과 : 2327\n",
      "ex4 결과 : 2327\n"
     ]
    }
   ],
   "source": [
    "# 11.Dict Items Sum\n",
    "\n",
    "d = {'a': 17,'b': 114,'c': 247, 'd': 362, 'e': 220, 'f': 728, 'g': -283, 'h': 922}\n",
    "\n",
    "# 방법1\n",
    "total = 0\n",
    "for i in d.values():\n",
    "    total += i\n",
    "    \n",
    "print(f'ex1 결과 : {total}')\n",
    "\n",
    "\n",
    "# 방법2\n",
    "print(f'ex2 결과 : {sum(d.values())}')\n",
    "\n",
    "\n",
    "# 방법3\n",
    "print(f'ex3 결과 : {sum([d[item] for item in d])}') # 괄호 제외\n",
    "\n",
    "\n",
    "# 방법4\n",
    "from functools import reduce\n",
    "\n",
    "print(f'ex4 결과 : {reduce(lambda x,y:x+y,d.values())}')\n",
    "\n",
    "\n",
    "# 방법5                \n",
    "# ..."
   ]
  }
 ],
 "metadata": {
  "kernelspec": {
   "display_name": "Python 3 (ipykernel)",
   "language": "python",
   "name": "python3"
  },
  "language_info": {
   "codemirror_mode": {
    "name": "ipython",
    "version": 3
   },
   "file_extension": ".py",
   "mimetype": "text/x-python",
   "name": "python",
   "nbconvert_exporter": "python",
   "pygments_lexer": "ipython3",
   "version": "3.10.6"
  },
  "toc": {
   "base_numbering": 1,
   "nav_menu": {},
   "number_sections": false,
   "sideBar": true,
   "skip_h1_title": false,
   "title_cell": "Table of Contents",
   "title_sidebar": "Contents",
   "toc_cell": false,
   "toc_position": {
    "height": "calc(100% - 180px)",
    "left": "10px",
    "top": "150px",
    "width": "318px"
   },
   "toc_section_display": true,
   "toc_window_display": false
  }
 },
 "nbformat": 4,
 "nbformat_minor": 5
}
