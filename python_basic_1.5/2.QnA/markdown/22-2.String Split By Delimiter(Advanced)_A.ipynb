{
 "cells": [
  {
   "attachments": {},
   "cell_type": "markdown",
   "id": "46e3d990",
   "metadata": {},
   "source": [
    "---\n",
    "# 파이썬 입문 : 도전! 45가지 기초 문법 실습하기 🙋🏻‍♂️\n",
    "---"
   ]
  },
  {
   "attachments": {},
   "cell_type": "markdown",
   "id": "28f413a5",
   "metadata": {},
   "source": [
    "### 꼭 기억하세요 😊\n",
    "+ **시간이 다소 소요되더라도** 스스로 생각해서 프로그래밍을 해야**`실력이 향상 됩니다.`** \n",
    "+ 다양한 문제를 통해서 **`문제 해결`**능력을 향상 시켜봐요.\n",
    "+ 여러 방식으로 **`같은 결과 값`**이 나오도록 프로그래밍 해보세요.\n",
    "+ **문제 해결**에 너무 시간이 오래 걸리면 **`검색(구글링 등)`**을 통해서 해결해보세요.\n",
    "+ **`온라인 Python IDE :`** https://www.programiz.com/python-programming/online-compiler/"
   ]
  },
  {
   "attachments": {},
   "cell_type": "markdown",
   "id": "c3a88b92",
   "metadata": {},
   "source": [
    "***\n",
    "## 22. String Split By Delimiter(Advanced)💻\n",
    "***\n",
    "#### **`연습예제`** 💻"
   ]
  },
  {
   "attachments": {},
   "cell_type": "markdown",
   "id": "49b428ae",
   "metadata": {},
   "source": [
    "**`/source`** **`폴더의 22-2.txt`** `파일을` **`공백 구분 후`** `단어 개수를 출력하는` **`함수`** `를 작성 후 실행하세요.` **`*콤마의 경우 두 단어로 취급*`**\n",
    "\n",
    "\n",
    "```python\n",
    "# Hi! Kim,Eun 의 경우 -> 3개\n",
    "\n",
    "in_str = \"../source/22-1.txt\"\n",
    "\n",
    "출력 결과 : 72\n",
    "```"
   ]
  },
  {
   "attachments": {},
   "cell_type": "markdown",
   "id": "44d53430",
   "metadata": {},
   "source": [
    "#### **`코딩영역`**"
   ]
  },
  {
   "cell_type": "code",
   "execution_count": 41,
   "id": "840e8e56",
   "metadata": {},
   "outputs": [],
   "source": [
    "from IPython.core.interactiveshell import InteractiveShell\n",
    "InteractiveShell.ast_node_interactivity = \"all\""
   ]
  },
  {
   "cell_type": "code",
   "execution_count": 65,
   "id": "ca1e5a1b",
   "metadata": {},
   "outputs": [
    {
     "name": "stdout",
     "output_type": "stream",
     "text": [
      "['\\nEarly', '\\nthat', '\\nDeep', 'which\\npermits']\n"
     ]
    }
   ],
   "source": [
    "# 코딩 영역\n",
    "import itertools\n",
    "\n",
    "ls = []\n",
    "with open(\"../source/22-1.txt\") as f:\n",
    "    # print(len(list(itertools.chain(*[i.replace(\",\",\" \").split() for i in f.readlines()]))))\n",
    "    ls = [y for x in [i.replace(\",\",\" \").split() for i in f.readlines()] for y in x]\n",
    "\n",
    "\n",
    "with open(\"../source/22-1.txt\", 'r') as file:\n",
    "    txt = file.read()\n",
    "txt = txt.replace(\",\", \" \")\n",
    "\n",
    "# 쉼표 제거 확인\n",
    "# print(txt)\n",
    "\n",
    "txt_list = txt.split(\" \")\n",
    "\n",
    "# 리스트 변환(공백)\n",
    "# print(txt_list)\n",
    "\n",
    "print([i for i in txt_list if i not in ls])\n",
    "\n",
    "# print(txt_list.count('Early'))\n",
    "\n",
    "# print(len(ls))\n",
    "# print(len(txt_list))"
   ]
  },
  {
   "attachments": {},
   "cell_type": "markdown",
   "id": "e48cce26",
   "metadata": {},
   "source": [
    "#### **`Hint`**"
   ]
  },
  {
   "attachments": {},
   "cell_type": "markdown",
   "id": "fc2ea9eb",
   "metadata": {},
   "source": [
    "<details>\n",
    "    <summary>▶<b>여기</b>를 눌러주세요</summary>\n",
    "<div markdown=\"1\">       \n",
    "\n",
    "```python\n",
    "# string.split(separator, maxsplit) : 구분자, 분할 수\n",
    "# string.replace(oldvalue, newvalue, count) : 타겟, 변환 값, 개수\n",
    "# 콤마를 공백으로 치환 -> 문자열을 구분 후 리스트로 변환\n",
    "# python re(Regular Expression) 사용가능(정규표현식)\n",
    "```\n",
    "</div>\n",
    "</details>"
   ]
  },
  {
   "attachments": {},
   "cell_type": "markdown",
   "id": "866ce5b7",
   "metadata": {},
   "source": [
    "***"
   ]
  },
  {
   "attachments": {},
   "cell_type": "markdown",
   "id": "45217c6a",
   "metadata": {},
   "source": [
    "![bottom_arrow](../../img/bottom_arrow.jpg)\n",
    "![bottom_arrow](../../img/bottom_arrow.jpg)\n",
    "![bottom_arrow](../../img/bottom_arrow.jpg)"
   ]
  },
  {
   "attachments": {},
   "cell_type": "markdown",
   "id": "fc473095",
   "metadata": {},
   "source": [
    "***"
   ]
  },
  {
   "attachments": {},
   "cell_type": "markdown",
   "id": "d316af80",
   "metadata": {},
   "source": [
    "#### **`결과 & 보충설명`**"
   ]
  },
  {
   "cell_type": "code",
   "execution_count": 60,
   "id": "8f8ac30f",
   "metadata": {},
   "outputs": [
    {
     "name": "stdout",
     "output_type": "stream",
     "text": [
      "['The', 'adjective', '\"deep\"', 'in', 'deep', 'learning', 'refers', 'to', 'the', 'use', 'of', 'multiple', 'layers', 'in', 'the', 'network.', '\\nEarly', 'work', 'showed', 'that', 'a', 'linear', 'perceptron', 'cannot', 'be', 'a', 'universal', 'classifier', 'but', '\\nthat', 'a', 'network', 'with', 'a', 'nonpolynomial', 'activation', 'function', 'with', 'one', 'hidden', 'layer', 'of', 'unbounded', 'width', 'can.', '\\nDeep', 'learning', 'is', 'a', 'modern', 'variation', 'which', 'is', 'concerned', 'with', 'an', 'unbounded', 'number', 'of', 'layers', 'of', 'bounded', 'size', 'which\\npermits', 'practical', 'application', 'and', 'optimized', 'implementation', 'while', 'retaining', 'theoretical']\n",
      "0\n",
      "ex1 결과 : 72\n",
      "ex2 결과 : 72\n"
     ]
    }
   ],
   "source": [
    "# 22.String Split By Delimiter(Advanced)\n",
    "\n",
    "# 방법1\n",
    "def cnt_word1(filepath):\n",
    "    with open(filepath, 'r') as file:\n",
    "        txt = file.read()\n",
    "    txt = txt.replace(\",\", \" \")\n",
    "    \n",
    "    # 쉼표 제거 확인\n",
    "    # print(txt)\n",
    "    \n",
    "    txt_list = txt.split(\" \")\n",
    "    print(txt_list)\n",
    "    \n",
    "    # 리스트 변환(공백)\n",
    "    # print(txt_list)\n",
    "    print(txt_list.count('Early'))\n",
    "    \n",
    "    return len(txt_list)\n",
    "\n",
    "print(f'ex1 결과 : {cnt_word1(\"../source/22-1.txt\")}')\n",
    "\n",
    "\n",
    "# 방법2\n",
    "import re\n",
    "\n",
    "def cnt_word2(filepath):\n",
    "    with open(filepath, 'r') as file:\n",
    "        txt = file.read()\n",
    "    \n",
    "    # 정규표현식 사용\n",
    "    txt_list = re.split(\" |,\", txt)\n",
    "    \n",
    "    # 리스트 변환(공백 + 콤마)\n",
    "    # print(txt_list)\n",
    "    \n",
    "    return len(txt_list)\n",
    "\n",
    "print(f'ex2 결과 : {cnt_word2(\"../source/22-1.txt\")}')"
   ]
  }
 ],
 "metadata": {
  "kernelspec": {
   "display_name": "Python 3 (ipykernel)",
   "language": "python",
   "name": "python3"
  },
  "language_info": {
   "codemirror_mode": {
    "name": "ipython",
    "version": 3
   },
   "file_extension": ".py",
   "mimetype": "text/x-python",
   "name": "python",
   "nbconvert_exporter": "python",
   "pygments_lexer": "ipython3",
   "version": "3.10.5"
  },
  "toc": {
   "base_numbering": 1,
   "nav_menu": {},
   "number_sections": false,
   "sideBar": true,
   "skip_h1_title": false,
   "title_cell": "Table of Contents",
   "title_sidebar": "Contents",
   "toc_cell": false,
   "toc_position": {
    "height": "calc(100% - 180px)",
    "left": "10px",
    "top": "150px",
    "width": "318px"
   },
   "toc_section_display": true,
   "toc_window_display": false
  }
 },
 "nbformat": 4,
 "nbformat_minor": 5
}
